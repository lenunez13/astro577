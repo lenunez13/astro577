{
 "cells": [
  {
   "cell_type": "code",
   "execution_count": 68,
   "metadata": {
    "collapsed": true
   },
   "outputs": [],
   "source": [
    "%matplotlib inline\n",
    "import numpy as np\n",
    "import matplotlib.pyplot as plt\n",
    "import pandas as pd\n",
    "plt.rcParams.update({'font.size': 14})\n",
    "from matplotlib.ticker import StrMethodFormatter, NullFormatter\n",
    "import matplotlib.ticker as ticker\n",
    "from matplotlib.ticker import ScalarFormatter \n"
   ]
  },
  {
   "cell_type": "code",
   "execution_count": 69,
   "metadata": {
    "collapsed": true
   },
   "outputs": [],
   "source": [
    "\n",
    "A = 0.001\n",
    "                        \n",
    "nk = np.zeros((4,9))\n",
    "nk[0,1]=200.\n",
    "\n",
    "for t in range(1,len(nk)):\n",
    "    for k in range(len(nk[0])):\n",
    "        for j in range(len(nk[0])):\n",
    "            for j in range(len(nk[0])):\n",
    "                if i+j == k:\n",
    "                    nk[t,i] = nk[t-1,i] +0.5*A*nk[t-1,i]**nk[t-1,j] + nk[t-1,k]*A*sum(nk[t-1])\n",
    "        "
   ]
  },
  {
   "cell_type": "code",
   "execution_count": 105,
   "metadata": {},
   "outputs": [
    {
     "data": {
      "text/plain": [
       "<matplotlib.lines.Line2D at 0x2b3db659c978>"
      ]
     },
     "execution_count": 105,
     "metadata": {},
     "output_type": "execute_result"
    },
    {
     "data": {
      "image/png": "[encoded data removed]",
      "text/plain": [
       "<matplotlib.figure.Figure at 0x2b3db6523208>"
      ]
     },
     "metadata": {},
     "output_type": "display_data"
    }
   ],
   "source": [
    "def dzdt(z):\n",
    "    return np.sqrt(z)\n",
    "\n",
    "Nout = 100 # the length of arrays for time and z\n",
    "times = np.linspace(0.,5.,Nout) # concerned with times between 0 and 5\n",
    "z = np.zeros(len(times))\n",
    "z[0] = 1. # known from z(t=0) = 1\n",
    "\n",
    "for i in range(Nout - 1):\n",
    "    delta_t = max(times)/Nout\n",
    "    z[i+1] = z[i] + delta_t*(dzdt(z[i]))\n",
    "    \n",
    "fig, ax = plt.subplots()\n",
    "ax.plot(times,z,color='k')\n",
    "ax.fill_between(times,0,z,facecolor=\"gray\",alpha=0.7)\n",
    "ax.set_ylabel(r'$z$',fontsize=16)\n",
    "ax.set_xlabel(r'$t$',fontsize=16)\n",
    "ax.axhline(y=0,ls='--',c='k',alpha=0.9)\n",
    "ax.axvline(x=0,ls='--',c='k',alpha=0.9)\n",
    "#plt.savefig('HW1_plot1.pdf',bbox_inches='tight')"
   ]
  },
  {
   "cell_type": "code",
   "execution_count": 106,
   "metadata": {},
   "outputs": [
    {
     "ename": "TypeError",
     "evalue": "'numpy.ndarray' object is not callable",
     "output_type": "error",
     "traceback": [
      "\u001b[0;31m---------------------------------------------------------------------------\u001b[0m",
      "\u001b[0;31mTypeError\u001b[0m                                 Traceback (most recent call last)",
      "\u001b[0;32m<ipython-input-106-6defc78a1f7f>\u001b[0m in \u001b[0;36m<module>\u001b[0;34m()\u001b[0m\n\u001b[0;32m----> 1\u001b[0;31m \u001b[0mInt\u001b[0m \u001b[0;34m=\u001b[0m \u001b[0mmy_integrate\u001b[0m\u001b[0;34m(\u001b[0m\u001b[0mz\u001b[0m\u001b[0;34m,\u001b[0m\u001b[0;36m0\u001b[0m\u001b[0;34m,\u001b[0m\u001b[0;36m5\u001b[0m\u001b[0;34m)\u001b[0m\u001b[0;34m\u001b[0m\u001b[0m\n\u001b[0m\u001b[1;32m      2\u001b[0m \u001b[0mprint\u001b[0m\u001b[0;34m(\u001b[0m\u001b[0;34m\"Integal = \"\u001b[0m\u001b[0;34m+\u001b[0m\u001b[0mstr\u001b[0m\u001b[0;34m(\u001b[0m\u001b[0mInt\u001b[0m\u001b[0;34m)\u001b[0m\u001b[0;34m)\u001b[0m\u001b[0;34m\u001b[0m\u001b[0m\n",
      "\u001b[0;32m<ipython-input-70-f642858aeeda>\u001b[0m in \u001b[0;36mmy_integrate\u001b[0;34m(funct, a, b, n)\u001b[0m\n\u001b[1;32m     10\u001b[0m         \u001b[0mdx\u001b[0m \u001b[0;34m=\u001b[0m \u001b[0;34m(\u001b[0m\u001b[0mb\u001b[0m\u001b[0;34m-\u001b[0m\u001b[0ma\u001b[0m\u001b[0;34m)\u001b[0m\u001b[0;34m/\u001b[0m\u001b[0mn\u001b[0m\u001b[0;34m\u001b[0m\u001b[0m\n\u001b[1;32m     11\u001b[0m         \u001b[0mmidpoint\u001b[0m \u001b[0;34m=\u001b[0m \u001b[0;36m0.5\u001b[0m\u001b[0;34m*\u001b[0m\u001b[0;34m(\u001b[0m\u001b[0mx\u001b[0m\u001b[0;34m[\u001b[0m\u001b[0mi\u001b[0m\u001b[0;34m]\u001b[0m\u001b[0;34m+\u001b[0m\u001b[0mx\u001b[0m\u001b[0;34m[\u001b[0m\u001b[0mi\u001b[0m\u001b[0;34m+\u001b[0m\u001b[0;36m1\u001b[0m\u001b[0;34m]\u001b[0m\u001b[0;34m)\u001b[0m\u001b[0;34m\u001b[0m\u001b[0m\n\u001b[0;32m---> 12\u001b[0;31m         \u001b[0mSum\u001b[0m \u001b[0;34m+=\u001b[0m \u001b[0mfunct\u001b[0m\u001b[0;34m(\u001b[0m\u001b[0mmidpoint\u001b[0m\u001b[0;34m)\u001b[0m\u001b[0;34m*\u001b[0m\u001b[0mdx\u001b[0m\u001b[0;34m\u001b[0m\u001b[0m\n\u001b[0m\u001b[1;32m     13\u001b[0m     \u001b[0;32mreturn\u001b[0m \u001b[0mSum\u001b[0m\u001b[0;34m\u001b[0m\u001b[0m\n\u001b[1;32m     14\u001b[0m \u001b[0;34m\u001b[0m\u001b[0m\n",
      "\u001b[0;31mTypeError\u001b[0m: 'numpy.ndarray' object is not callable"
     ]
    }
   ],
   "source": []
  },
  {
   "cell_type": "code",
   "execution_count": 3,
   "metadata": {},
   "outputs": [
    {
     "data": {
      "image/png": "[encoded data removed]",
      "text/plain": [
       "<matplotlib.figure.Figure at 0x2aab0b68b198>"
      ]
     },
     "metadata": {},
     "output_type": "display_data"
    }
   ],
   "source": [
    "# Problem 4\n",
    "\n",
    "df = pd.read_csv(\"confirmed_planets.csv\",header=76)\n",
    "method = 'pl_discmethod'\n",
    "c0 = (df[method]=='Radial Velocity')\n",
    "P = 'pl_orbper'\n",
    "fig,ax = plt.subplots()\n",
    "nbins = 5\n",
    "bins = [3.,10.,30.,100.,300.,1000.]\n",
    "counts1, bins1, bars1 = plt.hist(df[c0][P],bins=bins,color='k',lw=2,histtype='bar',ec='white')\n",
    "ax.set_xscale(\"log\")\n",
    "ax.xaxis.set_major_formatter(ScalarFormatter())\n",
    "ax.set_ylabel(\"Number of planets\")\n",
    "ax.set_xlabel(\"Period (days)\")\n",
    "#plt.savefig(\"HW1_plot2.pdf\")\n",
    "\n"
   ]
  },
  {
   "cell_type": "code",
   "execution_count": null,
   "metadata": {
    "collapsed": true
   },
   "outputs": [],
   "source": [
    "#Problem 3 (old)\n",
    "def my_integrate(y_array,n=1e5):\n",
    "    '''\n",
    "    Purpose: Integrates a function using The Midpoint Rule (Stewart p. 378)\n",
    "    '''\n",
    "    dx = (max(y_array)-min(y_array))/len(y_array)\n",
    "    Sum = 0\n",
    "    for i in range(len(y_array)-1):\n",
    "        dx = (b-a)/n\n",
    "        midpoint = 0.5*(x[i]+x[i+1])\n",
    "        Sum += funct(midpoint)*dx\n",
    "    return Sum\n",
    "        \n",
    "z = lambda t: ((t-2.)/2.)**2.\n",
    "Int = my_integrate(z,0,5)\n",
    "print(\"Integal = \"+str(Int))\n",
    "\n",
    "t = np.linspace(0.,5.,100)\n",
    "z = ((t-2.)/2.)**2.\n",
    "fig,ax = plt.subplots()\n",
    "#ax.plot(t,z,color=\"k\")\n",
    "ax.fill_between(t,0,z,facecolor=\"none\",hatch='++')\n",
    "ax.set_ylabel(r'$z$',fontsize=16)\n",
    "ax.set_xlabel(r'$t$',fontsize=16)\n",
    "ax.axhline(y=0,ls='--',c='gray',alpha=0.5)\n",
    "ax.axvline(x=0,ls='--',c='gray',alpha=0.5)\n",
    "#plt.savefig('HW1_plot1.pdf',bbox_inches='tight')\n"
   ]
  }
 ],
 "metadata": {
  "kernelspec": {
   "display_name": "Python 3",
   "language": "python",
   "name": "python3"
  },
  "language_info": {
   "codemirror_mode": {
    "name": "ipython",
    "version": 3
   },
   "file_extension": ".py",
   "mimetype": "text/x-python",
   "name": "python",
   "nbconvert_exporter": "python",
   "pygments_lexer": "ipython3",
   "version": "3.6.3"
  }
 },
 "nbformat": 4,
 "nbformat_minor": 2
}
