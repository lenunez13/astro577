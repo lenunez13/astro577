{
 "cells": [
  {
   "cell_type": "code",
   "execution_count": 1,
   "metadata": {
    "collapsed": true
   },
   "outputs": [],
   "source": [
    "%matplotlib inline\n",
    "import numpy as np\n",
    "import matplotlib.pyplot as plt\n",
    "import pandas as pd\n",
    "plt.rcParams.update({'font.size': 14})\n",
    "from matplotlib.ticker import StrMethodFormatter, NullFormatter\n",
    "import matplotlib.ticker as ticker\n",
    "from matplotlib.ticker import ScalarFormatter\n",
    "def my_integrate(funct,a,b,n=1e5):\n",
    "    '''\n",
    "    Purpose: Integrates a function using The Midpoint Rule (Stewart p. 378)\n",
    "    '''\n",
    "    dx = (b-a)/n\n",
    "    x = np.linspace(a,b,n+1)\n",
    "    Sum = 0\n",
    "    for i in range(len(x)-1):\n",
    "        dx = (b-a)/n\n",
    "        midpoint = 0.5*(x[i]+x[i+1])\n",
    "        Sum += funct(midpoint)*dx\n",
    "    return Sum\n",
    "        "
   ]
  },
  {
   "cell_type": "code",
   "execution_count": 71,
   "metadata": {
    "collapsed": true
   },
   "outputs": [],
   "source": [
    "\n",
    "A = 0.001\n",
    "#nk = np.array([0.,200.,0.,0.,0.,0.,0.,0.,0.])\n",
    "# for k in range(len(nk)):\n",
    "#     for i in range(len(nk)):\n",
    "#         for j in range(len(nk)):\n",
    "#             if i+j==k: \n",
    "#                 nk[k] = nk[k] + 0.5*A*(nk[i]*nk[j]+nk[j]*nk[i]) - nk[k]*A*sum(nk)\n",
    "#     print(nk)\n",
    "                \n",
    "                        \n",
    "nk = np.zeros((4,9))\n",
    "nk[0,1]=200.\n",
    "\n",
    "for t in range(1,len(nk)):\n",
    "    for k in range(len(nk[0])):\n",
    "        for j in range(len(nk[0])):\n",
    "            for j in range(len(nk[0])):\n",
    "                if i+j == k:\n",
    "                    nk[t,i] = nk[t-1,i] +0.5*A*nk[t-1,i]**nk[t-1,j] + nk[t-1,k]*A*sum(nk[t-1])\n",
    "        "
   ]
  },
  {
   "cell_type": "code",
   "execution_count": 72,
   "metadata": {},
   "outputs": [
    {
     "data": {
      "text/plain": [
       "array([[0.00000000e+00, 2.00000000e+02, 0.00000000e+00, 0.00000000e+00,\n",
       "        0.00000000e+00, 0.00000000e+00, 0.00000000e+00, 0.00000000e+00,\n",
       "        0.00000000e+00],\n",
       "       [0.00000000e+00, 0.00000000e+00, 0.00000000e+00, 0.00000000e+00,\n",
       "        0.00000000e+00, 0.00000000e+00, 0.00000000e+00, 0.00000000e+00,\n",
       "        5.00000000e-04],\n",
       "       [0.00000000e+00, 0.00000000e+00, 0.00000000e+00, 0.00000000e+00,\n",
       "        0.00000000e+00, 0.00000000e+00, 0.00000000e+00, 0.00000000e+00,\n",
       "        1.00000025e-03],\n",
       "       [0.00000000e+00, 0.00000000e+00, 0.00000000e+00, 0.00000000e+00,\n",
       "        0.00000000e+00, 0.00000000e+00, 0.00000000e+00, 0.00000000e+00,\n",
       "        1.50000125e-03]])"
      ]
     },
     "execution_count": 72,
     "metadata": {},
     "output_type": "execute_result"
    }
   ],
   "source": [
    "nk\n",
    " "
   ]
  },
  {
   "cell_type": "code",
   "execution_count": 7,
   "metadata": {},
   "outputs": [
    {
     "data": {
      "image/png": "[encoded data removed]",
      "text/plain": [
       "<matplotlib.figure.Figure at 0x2b7132678f60>"
      ]
     },
     "metadata": {},
     "output_type": "display_data"
    }
   ],
   "source": [
    "df = pd.read_csv(\"confirmed_planets.csv\",header=76)\n",
    "method = 'pl_discmethod'\n",
    "c0 = (df[method]=='Radial Velocity')\n",
    "P = 'pl_orbper'\n",
    "fig,ax = plt.subplots()\n",
    "nbins = 5\n",
    "bins = [3.,10.,30.,100.,300.,1000.]\n",
    "counts1, bins1, bars1 = plt.hist(df[c0][P],bins=bins,color='k',lw=2,histtype='bar',ec='white')\n",
    "ax.set_xscale(\"log\")\n",
    "ax.xaxis.set_major_formatter(ScalarFormatter())\n",
    "ax.set_ylabel(\"Number of planets\")\n",
    "ax.set_xlabel(\"Period (days)\")\n",
    "plt.savefig(\"HW1_plot2.pdf\")\n",
    "\n"
   ]
  },
  {
   "cell_type": "code",
   "execution_count": 36,
   "metadata": {},
   "outputs": [
    {
     "data": {
      "text/plain": [
       "array([   2.        ,    6.93144843,   24.02248868,   83.25532074,\n",
       "        288.53998118, 1000.        ])"
      ]
     },
     "execution_count": 36,
     "metadata": {},
     "output_type": "execute_result"
    }
   ],
   "source": []
  },
  {
   "cell_type": "code",
   "execution_count": 41,
   "metadata": {},
   "outputs": [
    {
     "name": "stdout",
     "output_type": "stream",
     "text": [
      "Integal = 2.91666666640626\n"
     ]
    },
    {
     "data": {
      "image/png": "[encoded data removed]",
      "text/plain": [
       "<matplotlib.figure.Figure at 0x2ba3fb98bd30>"
      ]
     },
     "metadata": {},
     "output_type": "display_data"
    }
   ],
   "source": [
    "z = lambda t: ((t-2.)/2.)**2.\n",
    "Int = my_integrate(z,0,5)\n",
    "\n",
    "print(\"Integal = \"+str(Int))\n",
    "\n",
    "#{'/', '\\', '|', '-', '+', 'x', 'o', 'O', '.', '*'}\n",
    "t = np.linspace(0.,5.,100)\n",
    "z = ((t-2.)/2.)**2.\n",
    "fig,ax = plt.subplots()\n",
    "#ax.plot(t,z,color=\"k\")\n",
    "ax.fill_between(t,0,z,facecolor=\"none\",hatch='++')\n",
    "ax.set_ylabel(r'$z$',fontsize=16)\n",
    "ax.set_xlabel(r'$t$',fontsize=16)\n",
    "ax.axhline(y=0,ls='--',c='gray',alpha=0.5)\n",
    "ax.axvline(x=0,ls='--',c='gray',alpha=0.5)\n",
    "plt.savefig('HW1_plot1.pdf',bbox_inches='tight')\n"
   ]
  },
  {
   "cell_type": "code",
   "execution_count": null,
   "metadata": {
    "collapsed": true
   },
   "outputs": [],
   "source": []
  }
 ],
 "metadata": {
  "kernelspec": {
   "display_name": "Python 3",
   "language": "python",
   "name": "python3"
  },
  "language_info": {
   "codemirror_mode": {
    "name": "ipython",
    "version": 3
   },
   "file_extension": ".py",
   "mimetype": "text/x-python",
   "name": "python",
   "nbconvert_exporter": "python",
   "pygments_lexer": "ipython3",
   "version": "3.6.3"
  }
 },
 "nbformat": 4,
 "nbformat_minor": 2
}
